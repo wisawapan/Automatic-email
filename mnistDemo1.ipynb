{
  "nbformat": 4,
  "nbformat_minor": 0,
  "metadata": {
    "kernelspec": {
      "display_name": "Python 3",
      "language": "python",
      "name": "python3"
    },
    "language_info": {
      "codemirror_mode": {
        "name": "ipython",
        "version": 3
      },
      "file_extension": ".py",
      "mimetype": "text/x-python",
      "name": "python",
      "nbconvert_exporter": "python",
      "pygments_lexer": "ipython3",
      "version": "3.5.2"
    },
    "colab": {
      "name": "mnistDemo1.ipynb",
      "provenance": [],
      "include_colab_link": true
    },
    "accelerator": "GPU"
  },
  "cells": [
    {
      "cell_type": "markdown",
      "metadata": {
        "id": "view-in-github",
        "colab_type": "text"
      },
      "source": [
        "<a href=\"https://colab.research.google.com/github/wisawapan/Automatic-email/blob/master/mnistDemo1.ipynb\" target=\"_parent\"><img src=\"https://colab.research.google.com/assets/colab-badge.svg\" alt=\"Open In Colab\"/></a>"
      ]
    },
    {
      "cell_type": "code",
      "metadata": {
        "id": "0FYln05-J-HN",
        "outputId": "948661f4-ae88-49f9-9f99-82af1958cb75",
        "colab": {
          "base_uri": "https://localhost:8080/"
        }
      },
      "source": [
        "%tensorflow_version 1.x"
      ],
      "execution_count": null,
      "outputs": [
        {
          "output_type": "stream",
          "text": [
            "TensorFlow 1.x selected.\n"
          ],
          "name": "stdout"
        }
      ]
    },
    {
      "cell_type": "code",
      "metadata": {
        "id": "UkKzF1dFKPOx",
        "outputId": "83c650db-4221-4fec-ddaf-0959fb418165",
        "colab": {
          "base_uri": "https://localhost:8080/",
          "height": 34
        }
      },
      "source": [
        "import tensorflow as tf\n",
        "tf.__version__"
      ],
      "execution_count": null,
      "outputs": [
        {
          "output_type": "execute_result",
          "data": {
            "application/vnd.google.colaboratory.intrinsic+json": {
              "type": "string"
            },
            "text/plain": [
              "'1.15.2'"
            ]
          },
          "metadata": {
            "tags": []
          },
          "execution_count": 2
        }
      ]
    },
    {
      "cell_type": "code",
      "metadata": {
        "id": "dE0dB2-WIb9p"
      },
      "source": [
        "######################################################################\n",
        "# Modify by Boonserm from ... \n",
        "# TensorFlow test example prepared by Adrian Bevan (a.j.bevan@qmul)\n",
        "# for use with the material found at:\n",
        "#\n",
        "# https://pprc.qmul.ac.uk/~bevan/statistics/TensorFlow.html\n",
        "#\n",
        "# Feb 2017\n",
        "######################################################################\n",
        "\n",
        "import tensorflow as tf\n",
        "import numpy as np\n",
        "import matplotlib.pyplot as plt\n",
        "import input_data\n",
        "import time\n",
        "\n",
        "# function to create weights with a randomly chosen initialisation.\n",
        "# this is important for the large number of hyperparameters we have in\n",
        "# the CNN; and in particular for the relu activation function.\n",
        "def weight_variable(shape):\n",
        "  initial = tf.truncated_normal(shape, stddev=0.1)\n",
        "  return tf.Variable(initial)\n",
        "\n",
        "# function to create biases with a randomly chosen initialisation.\n",
        "# this is important for the large number of hyperparameters we have in\n",
        "# the CNN; and in particular for the relu activation function.\n",
        "def bias_variable(shape):\n",
        "  initial = tf.constant(0.1, shape=shape)\n",
        "  return tf.Variable(initial)\n",
        "\n",
        "# Create a 2D convolutional layer\n",
        "def conv2d(x, W):\n",
        "  return tf.nn.conv2d(x, W, strides=[1, 1, 1, 1], padding='SAME')\n",
        "\n",
        "# Create a 2D convolutional layer with Strides: n x n\n",
        "def conv2d_n(x, W, n):\n",
        "  return tf.nn.conv2d(x, W, strides=[1, n, n, 1], padding='SAME')\n",
        "\n",
        "# create a max pooling kernel: 2 x 2\n",
        "def max_pool_2x2(x):\n",
        "  return tf.nn.max_pool(x, ksize=[1, 2, 2, 1],\n",
        "                        strides=[1, 2, 2, 1], padding='SAME')\n",
        "\n",
        "# create a max pooling kernel: n x n\n",
        "def max_pool_nxn(x,n):\n",
        "  return tf.nn.max_pool(x, ksize=[1, n, n, 1],\n",
        "                        strides=[1, n, n, 1], padding='SAME')\n",
        "\n",
        "\n",
        "def calAcc():\n",
        "# When the training finishes we should compute the accuracy of the final network on test, train \n",
        "# and also the validation samples.  This is important in order to get comparative benchmarks and demonstrate\n",
        "# that the performance is repeatable on different samples of events, including those previously unseen\n",
        "# events.\n",
        "#train_accuracy = accuracy.eval(feed_dict={x: mnist.test.images, y_: mnist.test.labels, keep_prob: 1.0})\n",
        "#test_accuracy = accuracy.eval(feed_dict={x: mnist.train.images, y_: mnist.train.labels, keep_prob: 1.0})\n",
        "#val_accuracy  = accuracy.eval(feed_dict={x: mnist.validation.images, y_: mnist.validation.labels, keep_prob: 1.0})\n",
        "\n",
        "  strain_accuracy = 0\n",
        "  stest_accuracy = 0\n",
        "  sval_accuracy = 0\n",
        "  noloop=10\n",
        "  for i in range(noloop):\n",
        "    batch_trnx, batch_trny = mnist.train.next_batch(int(notrain/noloop))\n",
        "    batch_tstx, batch_tsty = mnist.test.next_batch(int(notest/noloop))\n",
        "    batch_valx, batch_valy = mnist.validation.next_batch(int(noval/noloop))\n",
        "    train_accuracy = accuracy.eval(feed_dict={x: batch_trnx, y_: batch_trny, keep_prob: 1.0})\n",
        "    test_accuracy = accuracy.eval(feed_dict={x: batch_tstx, y_: batch_tsty, keep_prob: 1.0})\n",
        "    val_accuracy  = accuracy.eval(feed_dict={x: batch_valx, y_: batch_valy, keep_prob: 1.0})\n",
        "    strain_accuracy += train_accuracy \n",
        "    stest_accuracy += test_accuracy \n",
        "    sval_accuracy += val_accuracy \n",
        "\n",
        "  strain_accuracy /= noloop\n",
        "  stest_accuracy /= noloop\n",
        "  sval_accuracy /= noloop\n",
        "\n",
        "  print(\" accuracy for the train set examples      = \" , strain_accuracy)\n",
        "  print(\" accuracy for the test set examples       = \" , stest_accuracy)\n",
        "  print(\" accuracy for the validation set examples = \" , sval_accuracy)\n",
        "  return strain_accuracy, stest_accuracy, sval_accuracy"
      ],
      "execution_count": null,
      "outputs": []
    },
    {
      "cell_type": "code",
      "metadata": {
        "id": "USrBYtVoIb96",
        "outputId": "733f9012-c81e-48df-8062-35c929abdafc",
        "colab": {
          "base_uri": "https://localhost:8080/",
          "height": 402
        }
      },
      "source": [
        "# read in the data and start an interactive session\n",
        "print(\"Importing the MNIST data\")\n",
        "mnist = input_data.read_data_sets(\"./mnist/\", one_hot=True)\n",
        "\n",
        "# set no. of each data set\n",
        "notrain=len(mnist.train.labels)\n",
        "noval=len(mnist.validation.labels)\n",
        "notest=len(mnist.test.labels)\n",
        "    \n",
        "# the usual placeholders\n",
        "x = tf.placeholder(tf.float32, shape=[None, 784])\n",
        "y_ = tf.placeholder(tf.float32, shape=[None, 10])\n",
        "\n",
        "fig=plt.figure()\n",
        "fig.subplots_adjust(wspace=1.5, hspace=1)\n",
        "pN=[\"Zero\",\"One\", \"Two\",\"Three\",\"Four\",\"Five\",\"Six\",\"Seven\",\"Eight\",\"Nine\"]\n",
        "for example in range(20):\n",
        "  data = mnist.train.images[example:example+1,:]\n",
        "  label = mnist.train.labels[example:example+1,:]\n",
        "  image = data[0].reshape([28,28])\n",
        "  a = fig.add_subplot(4,5,example+1)\n",
        "  a.set_title('%4s' % pN[label[0].argmax(axis=0)])\n",
        "  plt.imshow(image,cmap=plt.get_cmap('gray'))\n",
        "  a.axes.get_xaxis().set_visible(False)\n",
        "  a.axes.get_yaxis().set_visible(False)\n",
        "plt.show()  "
      ],
      "execution_count": null,
      "outputs": [
        {
          "output_type": "stream",
          "text": [
            "Importing the MNIST data\n",
            "WARNING:tensorflow:From /content/mnistRead.py:235: maybe_download (from tensorflow.contrib.learn.python.learn.datasets.base) is deprecated and will be removed in a future version.\n",
            "Instructions for updating:\n",
            "Please write your own downloading logic.\n",
            "Extracting ./mnist/train-images-idx3-ubyte.gz\n",
            "Extracting ./mnist/train-labels-idx1-ubyte.gz\n",
            "Extracting ./mnist/t10k-images-idx3-ubyte.gz\n",
            "Extracting ./mnist/t10k-labels-idx1-ubyte.gz\n"
          ],
          "name": "stdout"
        },
        {
          "output_type": "display_data",
          "data": {
            "image/png": "[encoded data removed]",
            "text/plain": [
              "<Figure size 432x288 with 20 Axes>"
            ]
          },
          "metadata": {
            "tags": [],
            "needs_background": "light"
          }
        }
      ]
    },
    {
      "cell_type": "code",
      "metadata": {
        "id": "hZRq3HK4Ib9-",
        "outputId": "f6feeb55-53f7-4e67-f260-f38d0ae4730c",
        "colab": {
          "base_uri": "https://localhost:8080/"
        }
      },
      "source": [
        "# first convolutional layer; this is a 5 x 5 patch size with 1 input and 32 outputs.\n",
        "# the re-shaped image has the number of colour channels as the last dimension, and \n",
        "# the image shape as the middle two.\n",
        "W_conv1 = weight_variable([5, 5, 1, 32])\n",
        "b_conv1 = bias_variable([32])\n",
        "x_image = tf.reshape(x, [-1,28,28,1])\n",
        "\n",
        "# convolution of reshaped image with the weight tensor and apply the \n",
        "# bias offset. This is input to a relu function; followed by the \n",
        "# maxpooling step.\n",
        "h_conv1 = tf.nn.relu(conv2d(x_image, W_conv1) + b_conv1)\n",
        "h_pool1 = max_pool_2x2(h_conv1)\n",
        "\n",
        "# second convolutional layer; as before a 5 x 5 patch size with 32 inputs\n",
        "# and now 64 outputs.\n",
        "W_conv2 = weight_variable([5, 5, 32, 64])\n",
        "b_conv2 = bias_variable([64])\n",
        "\n",
        "# convolution of maxpooled image with the weight tensor and apply the\n",
        "# bias offset for the second layer applied. This is input to a relu function; \n",
        "# followed by the maxpooling step.\n",
        "h_conv2 = tf.nn.relu(conv2d(h_pool1, W_conv2) + b_conv2)\n",
        "h_pool2 = max_pool_2x2(h_conv2)\n",
        "\n",
        "# Now we contruct a fully connected layer working from a 7x7 image with \n",
        "# 64 outputs and 1024 neurons.\n",
        "W_fc1 = weight_variable([7 * 7 * 64, 1024])\n",
        "b_fc1 = bias_variable([1024])\n",
        "\n",
        "h_pool2_flat = tf.reshape(h_pool2, [-1, 7*7*64])\n",
        "h_fc1 = tf.nn.relu(tf.matmul(h_pool2_flat, W_fc1) + b_fc1)\n",
        "\n",
        "keep_prob = tf.placeholder(tf.float32)\n",
        "h_fc1_drop = tf.nn.dropout(h_fc1, keep_prob)\n",
        "\n",
        "# this is the readout layer where we flatten the 1024 outputs of the previous\n",
        "# densely connected layer into evidence for the 10 possible types\n",
        "W_fc2 = weight_variable([1024, 10])\n",
        "b_fc2 = bias_variable([10])\n",
        "\n",
        "y_conv = tf.matmul(h_fc1_drop, W_fc2) + b_fc2"
      ],
      "execution_count": null,
      "outputs": [
        {
          "output_type": "stream",
          "text": [
            "WARNING:tensorflow:From <ipython-input-5-4b2b439fb679>:34: calling dropout (from tensorflow.python.ops.nn_ops) with keep_prob is deprecated and will be removed in a future version.\n",
            "Instructions for updating:\n",
            "Please use `rate` instead of `keep_prob`. Rate should be set to `rate = 1 - keep_prob`.\n"
          ],
          "name": "stdout"
        }
      ]
    },
    {
      "cell_type": "code",
      "metadata": {
        "id": "CFcD2xG2Ib-C",
        "outputId": "e2060493-c645-4a1e-c89a-0c3243655180",
        "colab": {
          "base_uri": "https://localhost:8080/",
          "height": 1000
        }
      },
      "source": [
        "#\n",
        "# Set parameters for training; cross entropy loss function, with the Adam optimiser\n",
        "#\n",
        "cross_entropy = tf.reduce_mean(tf.nn.softmax_cross_entropy_with_logits(labels=y_, logits=y_conv))\n",
        "train_step = tf.train.AdamOptimizer(1e-4).minimize(cross_entropy)\n",
        "correct_prediction = tf.equal(tf.argmax(y_conv,1), tf.argmax(y_,1))\n",
        "accuracy = tf.reduce_mean(tf.cast(correct_prediction, tf.float32))\n",
        "\n",
        "#\n",
        "# Run the training over 20000 epochs\n",
        "#\n",
        "sess = tf.InteractiveSession()\n",
        "sess.run(tf.global_variables_initializer())\n",
        "\n",
        "accuracy_train=[]\n",
        "accuracy_test=[]\n",
        "accuracy_val=[]\n",
        "cost_test=[]\n",
        "cost_train=[]\n",
        "cost_val=[]\n",
        "epoch=[]\n",
        "bestValAcc = 0\n",
        "start_time = time.time()\n",
        "saveBest = False\n",
        "\n",
        "# run the CNN training phase, using batches of 50 images for each train sample.  From these\n",
        "# extract the accuracy of predictions and cost in order to show the performance of the CNN \n",
        "# as a function of epoch for the test and train sample.\n",
        "#\n",
        "# Also compute the final performance against the validation sample.\n",
        "#for i in range(20000):\n",
        "for i in range(2000):\n",
        "  # we can either split data and lables into two variables for the examples, or \n",
        "  # we can combine them and refer to the data examples as X[0] and the labels as\n",
        "  # X[1] as shown for the train and test examples in the following.\n",
        "  batch_img, batch_lbl = mnist.train.next_batch(50)\n",
        "  testbatch = mnist.test.next_batch(50)\n",
        "  valbatch = mnist.validation.next_batch(int(noval/10))\n",
        "\n",
        "# train the hyper parameters for the CNN; use a drop out keep prob of 0.5\n",
        "# to promote generalisation of the network.\n",
        "  train_step.run(feed_dict={x: batch_img, y_: batch_lbl, keep_prob: 0.5})\n",
        "\n",
        "# now compute the accuracy for train/test samples as a funciton of epoch for every\n",
        "# nth epoch.  For this stage ensure that the keep prob is set to 1.0 to evaluate the \n",
        "# performance of the network including all nodes (as it will ultimately be used).\n",
        "  if i%100 == 0:\n",
        "      train_accuracy = accuracy.eval(feed_dict={x:batch_img, y_: batch_lbl, keep_prob: 1.0})\n",
        "      print(\"step %5d, training accuracy %06.4f\"%(i, train_accuracy),end='  ')\n",
        "      val_accuracy =accuracy.eval(feed_dict={x: valbatch[0], y_: valbatch[1], keep_prob: 1.0})\n",
        "      print(\"validation accuracy %06.4f\"%val_accuracy)\n",
        "      cost_train.append(sess.run(cross_entropy, feed_dict={x: batch_img, y_: batch_lbl, keep_prob: 1.0}))\n",
        "      cost_val.append( sess.run(cross_entropy, feed_dict={x: valbatch[0], y_: valbatch[1], keep_prob: 1.0}) )\n",
        "      accuracy_train.append(train_accuracy)\n",
        "      accuracy_val.append(val_accuracy)\n",
        "      epoch.append(i+1)\n",
        "\n",
        "print(\"Training phase finished\")\n",
        "duration = time.time() - start_time\n",
        "print('(%.3f sec)' % duration)\n",
        "  \n",
        "print(\"--- accuracy of the last model ---\")\n",
        "trnAcc, tstAcc,valAcc = calAcc()\n",
        "\n",
        "\n",
        "plt.plot(epoch, accuracy_train, 'o', label='Training data')\n",
        "plt.plot(epoch, accuracy_val, 'o', label='Validation data')\n",
        "plt.xlabel('Epoch')\n",
        "plt.ylabel('Accuracy')\n",
        "plt.legend(loc=4)\n",
        "plt.show()\n",
        "\n",
        "plt.plot(epoch, cost_train, 'o', label='Training data')\n",
        "plt.plot(epoch, cost_val, 'o', label='Validation data')\n",
        "plt.xlabel('Epoch')\n",
        "plt.ylabel('Cost')\n",
        "plt.legend()\n",
        "plt.show()"
      ],
      "execution_count": null,
      "outputs": [
        {
          "output_type": "stream",
          "text": [
            "WARNING:tensorflow:From <ipython-input-6-94f4c182316b>:4: softmax_cross_entropy_with_logits (from tensorflow.python.ops.nn_ops) is deprecated and will be removed in a future version.\n",
            "Instructions for updating:\n",
            "\n",
            "Future major versions of TensorFlow will allow gradients to flow\n",
            "into the labels input on backprop by default.\n",
            "\n",
            "See `tf.nn.softmax_cross_entropy_with_logits_v2`.\n",
            "\n",
            "step     0, training accuracy 0.2000  validation accuracy 0.0940\n",
            "step   100, training accuracy 0.8400  validation accuracy 0.8580\n",
            "step   200, training accuracy 0.9000  validation accuracy 0.9060\n",
            "step   300, training accuracy 0.9200  validation accuracy 0.9380\n",
            "step   400, training accuracy 0.9800  validation accuracy 0.9220\n",
            "step   500, training accuracy 0.9800  validation accuracy 0.9240\n",
            "step   600, training accuracy 0.9400  validation accuracy 0.9500\n",
            "step   700, training accuracy 0.9800  validation accuracy 0.9540\n",
            "step   800, training accuracy 1.0000  validation accuracy 0.9500\n",
            "step   900, training accuracy 0.9800  validation accuracy 0.9660\n",
            "step  1000, training accuracy 0.9400  validation accuracy 0.9600\n",
            "step  1100, training accuracy 0.9800  validation accuracy 0.9660\n",
            "step  1200, training accuracy 1.0000  validation accuracy 0.9560\n",
            "step  1300, training accuracy 0.9400  validation accuracy 0.9700\n",
            "step  1400, training accuracy 0.9800  validation accuracy 0.9640\n",
            "step  1500, training accuracy 0.9400  validation accuracy 0.9620\n",
            "step  1600, training accuracy 0.9800  validation accuracy 0.9600\n",
            "step  1700, training accuracy 0.9800  validation accuracy 0.9680\n",
            "step  1800, training accuracy 0.9800  validation accuracy 0.9880\n",
            "step  1900, training accuracy 0.9400  validation accuracy 0.9760\n",
            "Training phase finished\n",
            "(16.713 sec)\n",
            "--- accuracy of the last model ---\n",
            " accuracy for the train set examples      =  0.9775999963283539\n",
            " accuracy for the test set examples       =  0.9766999959945679\n",
            " accuracy for the validation set examples =  0.9777999997138977\n"
          ],
          "name": "stdout"
        },
        {
          "output_type": "display_data",
          "data": {
            "image/png": "[encoded data removed]",
            "text/plain": [
              "<Figure size 432x288 with 1 Axes>"
            ]
          },
          "metadata": {
            "tags": [],
            "needs_background": "light"
          }
        },
        {
          "output_type": "display_data",
          "data": {
            "image/png": "[encoded data removed]",
            "text/plain": [
              "<Figure size 432x288 with 1 Axes>"
            ]
          },
          "metadata": {
            "tags": [],
            "needs_background": "light"
          }
        }
      ]
    }
  ]
}